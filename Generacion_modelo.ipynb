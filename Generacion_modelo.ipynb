{
  "nbformat": 4,
  "nbformat_minor": 0,
  "metadata": {
    "colab": {
      "name": "Generacion modelo.ipynb",
      "provenance": [],
      "collapsed_sections": []
    },
    "kernelspec": {
      "name": "python3",
      "display_name": "Python 3"
    },
    "language_info": {
      "name": "python"
    }
  },
  "cells": [
    {
      "cell_type": "code",
      "source": [
        "import pandas as pd\n",
        "from google.colab import files\n",
        "import io\n",
        "from sklearn.model_selection import train_test_split\n",
        "from sklearn.tree import DecisionTreeClassifier\n",
        "from sklearn import tree\n",
        "import seaborn as sb\n",
        "import matplotlib.pyplot as plt\n",
        "from sklearn.metrics import classification_report, confusion_matrix\n",
        "from subprocess import check_call\n",
        "from PIL import Image, ImageDraw, ImageFont\n",
        "from IPython.display import Image as PImage\n",
        "import numpy as np\n",
        "from sklearn.ensemble import RandomForestClassifier\n",
        "import seaborn as sns\n",
        "from sklearn.neighbors import KNeighborsClassifier\n",
        "from sklearn.inspection import permutation_importance\n",
        "from sklearn.metrics import roc_auc_score\n",
        "from sklearn.metrics import f1_score\n",
        "from sklearn.metrics import accuracy_score\n",
        "from sklearn.metrics import precision_score\n",
        "from sklearn.metrics import recall_score\n",
        "from sklearn import decomposition, datasets\n",
        "from sklearn import tree\n",
        "from sklearn.pipeline import Pipeline\n",
        "from sklearn.model_selection import GridSearchCV\n",
        "from sklearn.preprocessing import StandardScaler\n",
        "from sklearn.preprocessing import MinMaxScaler\n",
        "import joblib"
      ],
      "metadata": {
        "id": "ZM0GRo8rZ_Vk"
      },
      "execution_count": 3,
      "outputs": []
    },
    {
      "cell_type": "code",
      "source": [
        "\n",
        "#Se carga el dataset desde un repositorio en github\n",
        "ds = pd.read_csv('https://raw.githubusercontent.com/lsrinconc/tg-desercion/main/dataset_estudiantes.csv', sep=';')\n"
      ],
      "metadata": {
        "id": "bMatIYfshH3Q"
      },
      "execution_count": 4,
      "outputs": []
    },
    {
      "cell_type": "markdown",
      "source": [
        "**Configuración**"
      ],
      "metadata": {
        "id": "OENU1d7JZTr4"
      }
    },
    {
      "cell_type": "code",
      "source": [
        "#Formateo de columnas\n",
        "#Formateo Edad_rango\n",
        "ds['Edad_rango'] = ds['edad_rango'].map( {'0 a 20': 16, \n",
        "                                        '21 a 25': 21,\n",
        "                                        '26 a 30': 26, \n",
        "                                        '31 a 40': 31,\n",
        "                                        'Mayor a 40': 40}).astype(int)\n",
        "# Formateo Genero \n",
        "ds['Genero'] = ds['genero'].map( {'F': 0, 'M': 1}).astype(int)\n",
        "\n",
        "#Formateo Jornada\n",
        "ds['Jornada'] = ds['jornada'].map( {'DIURNA': 0, 'NOCTURNA': 1}).astype(int)\n",
        "\n",
        "#Formateo Estado civil\n",
        "ds['Estado_civil'] = ds['estado_civil'].map( {'CASADO': 0, \n",
        "                                              'DIVORCIADO': 1, \n",
        "                                              'SEPARADO': 2, \n",
        "                                              'SOLTERO': 3, \n",
        "                                              'UNION LIBRE': 4, \n",
        "                                              'OTRO':5}).astype(int)\n",
        "\n",
        "#Formateo ingresos familiares\n",
        "ds['Ingresos_familiares'] = ds['ingresos_familiares'].map( {'ENTRE 0-1 SALARIOS MINIMOS': 0, \n",
        "                                                            'ENTRE 1-2 SALARIOS MINIMOS': 1, \n",
        "                                                            'ENTRE 2-5 SALARIOS MINIMOS': 2, \n",
        "                                                            'MAYOR 5 SALARIOS  MINIMOS': 3}).astype(int)\n",
        "\n",
        "#Formateo calificaciones\n",
        "ds['C1_rango'] = ds['c1_rango'].map( {'ENTRE 0 Y 2.9': 0, 'ENTRE 3 Y 3.9': 3, 'ENTRE 4 Y 5': 5}).astype(int)\n",
        "ds['C2_rango'] = ds['c2_rango'].map( {'ENTRE 0 Y 2.9': 0, 'ENTRE 3 Y 3.9': 3, 'ENTRE 4 Y 5': 5}).astype(int)\n",
        "ds['P1_rango'] = ds['p1_rango'].map( {'ENTRE 0 Y 2.9': 0, 'ENTRE 3 Y 3.9': 3, 'ENTRE 4 Y 5': 5}).astype(int)\n",
        "ds['P2_rango'] = ds['p2_rango'].map( {'ENTRE 0 Y 2.9': 0, 'ENTRE 3 Y 3.9': 3, 'ENTRE 4 Y 5': 5}).astype(int)\n",
        "ds['Promedio_acumulado_rango'] = ds['promedio_acumulado_rango'].map( {'ENTRE 0 Y 2.9': 0, 'ENTRE 3 Y 3.9': 3, 'ENTRE 4 Y 5': 5}).astype(int)\n",
        "\n",
        "#Formateo promedio_asignaturas_sem_rango\n",
        "#Los valores correspondientes a MAS DE 8, se reemplazan por 1, con el fin de reemplazar esos valores atípicos con la moda\n",
        "ds['Cantidad_asignaturas_sem_rango'] = ds['cantidad_asignaturas_sem_rango'].map( {'ENTRE 1 Y 4': 0, 'ENTRE 5 Y 8': 1, 'MAS DE 8': 1}).astype(int)\n",
        "\n",
        "\n",
        "# Array con los nombres de las columnas a eliminar\n",
        "columnas_eliminar = ['documento','edad','edad_rango','genero','jornada',\n",
        "                 'estado_civil','ingresos_familiares',\n",
        "                 'c1_rango','c2_rango','p1_rango','p2_rango','c1','c2','p1','p2',\n",
        "                 'cantidad_asignaturas_sem','cantidad_asignaturas_sem_rango','promedio_acumulado','promedio_acumulado_rango']\n",
        "# Se eliminan las columnas que sin formatear y las columnas que no son necesarias para el analisis y se guardan en una nueva variable\n",
        "ds_formateado = ds.drop(columnas_eliminar, axis = 1)\n",
        "\n",
        "\n",
        "# Se separan los atributos (X) y  clase (y)\n",
        "X = ds_formateado.drop('desertor', axis=1)\n",
        "y = ds_formateado['desertor']\n",
        "\n",
        "\n",
        "\n",
        "# Se dividen los datos en dos grupos. Datos de entrenamiento(65%) y prueba(35%) \n",
        "X_entr, X_prueba, y_entr, y_prueba = train_test_split(X, y, test_size=0.35)\n"
      ],
      "metadata": {
        "id": "djzdn_8ZaMg0"
      },
      "execution_count": null,
      "outputs": []
    },
    {
      "cell_type": "code",
      "source": [
        "# Funcion para dibujar matriz de confusion\n",
        "LABELS = [\"NO Desertor\",\"Desertor\"]\n",
        "def mostrar_matriz_conf(y_test, pred_y):\n",
        "    conf_matrix = confusion_matrix(y_test, pred_y)\n",
        "    plt.figure(figsize=(5, 5))\n",
        "    sns.heatmap(conf_matrix, xticklabels=LABELS, yticklabels=LABELS, annot=True, fmt=\"d\");\n",
        "    plt.show()\n",
        "\n",
        "\n",
        "# Nombres de las columnas\n",
        "columns=list(X.columns.values)"
      ],
      "metadata": {
        "id": "HutXKWUxYoKf"
      },
      "execution_count": null,
      "outputs": []
    },
    {
      "cell_type": "markdown",
      "source": [
        "Arboles de decisión"
      ],
      "metadata": {
        "id": "fcAyawkESg5H"
      }
    },
    {
      "cell_type": "code",
      "source": [
        "# parametrizacion \n",
        "\n",
        "std_slc = StandardScaler()\n",
        "pca = decomposition.PCA()\n",
        "dec_tree = tree.DecisionTreeClassifier()\n",
        "\n",
        "pipe = Pipeline(steps=[('std_slc', std_slc),\n",
        "                          ('pca', pca),\n",
        "                          ('dec_tree', dec_tree)])\n",
        "\n",
        "criterion = ['gini', 'entropy']\n",
        "min_samples_split = [4,8,12,16,20,24,28,32,36,40]\n",
        "min_samples_leaf = [2,4,6,8,10,12,14,16,18,20]\n",
        "\n",
        "parametros = dict(\n",
        "                  dec_tree__criterion=criterion,\n",
        "                  dec_tree__min_samples_split=min_samples_split,\n",
        "                  dec_tree__min_samples_leaf=min_samples_leaf\n",
        "                  )\n",
        "\n",
        "clf_GS = GridSearchCV(pipe, parametros)\n",
        "clf_GS.fit(X, y)\n",
        "\n",
        "print('Mejor Criterion:', clf_GS.best_estimator_.get_params()['dec_tree__criterion'])\n",
        "print('Mejor min_samples_split:', clf_GS.best_estimator_.get_params()['dec_tree__min_samples_split'])\n",
        "print('Mejor min_samples_leaf:', clf_GS.best_estimator_.get_params()['dec_tree__min_samples_leaf'])\n"
      ],
      "metadata": {
        "id": "dRYFrNVJRjvj"
      },
      "execution_count": null,
      "outputs": []
    },
    {
      "cell_type": "code",
      "source": [
        "# Grafico de ajuste del árbol de decisión\n",
        "train_score =  []\n",
        "test_score = []\n",
        "max_deep_list = list(range(3, 20))\n",
        "\n",
        "\n",
        "for deep in max_deep_list:\n",
        "    arbol = DecisionTreeClassifier(criterion='entropy', max_depth=deep)\n",
        "    arbol.fit(X_entr, y_entr)\n",
        "    train_score.append(arbol.score(X_entr, y_entr))\n",
        "    test_score.append(arbol.score(X_prueba, y_prueba))\n",
        "\n",
        "# graficar los resultados.\n",
        "plt.plot(max_deep_list, train_score, color='r', label='Entrenamiento')\n",
        "plt.plot(max_deep_list, test_score, color='b', label='Prueba')\n",
        "plt.title('Gráfico de ajuste Árbol de decisión')\n",
        "plt.legend()\n",
        "plt.ylabel('Exactitud')\n",
        "plt.xlabel('Profundidad')\n",
        "plt.show()"
      ],
      "metadata": {
        "id": "lJNRGP0ESvAS"
      },
      "execution_count": null,
      "outputs": []
    },
    {
      "cell_type": "code",
      "source": [
        "# Creación modelo\n",
        "classifier = DecisionTreeClassifier(criterion='entropy',\n",
        "                                            min_samples_split=40,\n",
        "                                            min_samples_leaf=10,\n",
        "                                            max_depth = 5)\n",
        "\n",
        "classifier.fit(X_entr, y_entr)\n",
        "y_pred = classifier.predict(X_prueba)\n",
        "mostrar_matriz_conf(y_prueba,y_pred)\n",
        "print(\"Accuracy Score: {:.4f}\".format(accuracy_score(y_prueba,y_pred)))\n",
        "print(\"Recall Score: {:.4f}\".format(recall_score(y_prueba,y_pred)))\n",
        "print(\"Specificity Score: {:.4f}\".format(recall_score(y_prueba,y_pred, pos_label=0)))"
      ],
      "metadata": {
        "id": "N1qSw4HoRjkt"
      },
      "execution_count": null,
      "outputs": []
    },
    {
      "cell_type": "code",
      "source": [
        "# Imprimir caracterisitcas importantes\n",
        "importance = classifier.feature_importances_\n",
        "\n",
        "plt.figure(figsize=(9, 5))\n",
        "plt.title('Características importantes')\n",
        "plt.barh(range(X_entr.shape[1]), importance, align='center')\n",
        "plt.yticks(range(X_entr.shape[1]), columns)\n",
        "plt.tight_layout()\n",
        "plt.show()\n",
        "\n",
        "\n"
      ],
      "metadata": {
        "id": "msXCsbzVo8J1"
      },
      "execution_count": null,
      "outputs": []
    },
    {
      "cell_type": "code",
      "source": [
        "# Generar grafico del arbol \n",
        "with open(r\"tree1.dot\", 'w') as f:\n",
        "     f = tree.export_graphviz(classifier,\n",
        "                              out_file=f,\n",
        "                              max_depth = 7,\n",
        "                              impurity = True,\n",
        "                              feature_names = list(ds_formateado.drop(['desertor'], axis=1)),\n",
        "                              class_names = ['NO Desertor', 'Desertor'],\n",
        "                              rounded = True,\n",
        "                              filled= True )\n",
        "\n",
        "        \n",
        "# Convertir el archivo .dot a png para poder visualizarlo\n",
        "check_call(['dot','-Tpng',r'tree1.dot','-o',r'tree1.png'])\n",
        "PImage(\"tree1.png\")"
      ],
      "metadata": {
        "id": "GdxVirjBnFL_"
      },
      "execution_count": null,
      "outputs": []
    },
    {
      "cell_type": "markdown",
      "source": [
        "K Vecinos más cercanos"
      ],
      "metadata": {
        "id": "y5vuQGaYBNx7"
      }
    },
    {
      "cell_type": "code",
      "source": [
        "#Parametrización\n",
        "# Se normalizan los atributos (X) de entrenamiento y prueba\n",
        "scaler = MinMaxScaler()\n",
        "X_entr_knn = scaler.fit_transform(X_entr)\n",
        "X_prueba_knn = scaler.transform(X_prueba)\n",
        "\n",
        "\n",
        "k_range = range(1, 20)\n",
        "scores = []\n",
        "for k in k_range:\n",
        "    knn = KNeighborsClassifier(n_neighbors = k)\n",
        "    knn.fit(X_entr_knn, y_entr)\n",
        "    scores.append(knn.score(X_prueba_knn, y_prueba))\n",
        "plt.figure()\n",
        "plt.title('Gráfico de ajuste K vecinos más cercanos')\n",
        "plt.ylabel('Exactitud')\n",
        "plt.xlabel('K')\n",
        "plt.scatter(k_range, scores)\n",
        "plt.xticks([0,5,10,15,20])\n",
        "plt.show()\n"
      ],
      "metadata": {
        "id": "s9iKJzLdBSan"
      },
      "execution_count": null,
      "outputs": []
    },
    {
      "cell_type": "code",
      "source": [
        "#Modelo\n",
        "k = 11\n",
        "knn = KNeighborsClassifier(k)\n",
        "knn.fit(X_entr_knn, y_entr)\n",
        "y_pred = knn.predict(X_prueba_knn)\n",
        "\n",
        "mostrar_matriz_conf(y_prueba,y_pred)\n",
        "print(\"Accuracy Score: {:.4f}\".format(accuracy_score(y_prueba,y_pred)))\n",
        "print(\"Recall Score: {:.4f}\".format(recall_score(y_prueba,y_pred)))\n",
        "print(\"Specificity Score: {:.4f}\".format(recall_score(y_prueba,y_pred, pos_label=0)))"
      ],
      "metadata": {
        "id": "f6QQkP7ASQL_"
      },
      "execution_count": null,
      "outputs": []
    },
    {
      "cell_type": "code",
      "source": [
        "# Imprimir caracterisitcas importantes\n",
        "results = permutation_importance(knn, X_prueba_knn, y_pred, scoring='accuracy')\n",
        "K_importance = results.importances_mean\n",
        "\n",
        "\n",
        "plt.figure(figsize=(9, 5))\n",
        "plt.title('Características importantes')\n",
        "plt.barh(range(X_entr_knn.shape[1]), K_importance, align='center')\n",
        "plt.yticks(range(X_prueba_knn.shape[1]), columns)\n",
        "plt.tight_layout()\n",
        "plt.show()\n",
        "\n",
        "\n"
      ],
      "metadata": {
        "id": "xFXRhzWjV-ok"
      },
      "execution_count": null,
      "outputs": []
    },
    {
      "cell_type": "code",
      "source": [
        "\n",
        "#Se ordenan las importancias\n",
        "sorted_indices = np.argsort(importance)\n",
        "sorted_indices_knn = np.argsort(K_importance)\n",
        "\n",
        "#se grafican las características de ambos modelos\n",
        "fig, (ax1, ax2)  = plt.subplots(2,1,figsize=(9,7))\n",
        "\n",
        "ax1.set_title(\"Características importantes Arbol de decisión\")\n",
        "ax1.barh(range(12), importance[sorted_indices], align='center')\n",
        "ax1.set_yticks(   (range(12) ) )\n",
        "ax1.set_yticklabels(   (  X.columns[sorted_indices.astype(int)]) )\n",
        "\n",
        "ax2.set_title(\"Características importantes K vecinos más cercanos\")\n",
        "ax2.barh(range(12), K_importance[sorted_indices_knn], align='center')\n",
        "ax2.set_yticks((range(12)))\n",
        "ax2.set_yticklabels(X.columns[sorted_indices_knn.astype(int)])\n",
        "fig.tight_layout()\n",
        "\n",
        "plt.show()"
      ],
      "metadata": {
        "id": "ueH30pWubFvl"
      },
      "execution_count": null,
      "outputs": []
    },
    {
      "cell_type": "code",
      "source": [
        "#exportacion del modelo\n",
        "joblib.dump(knn, 'modelo_knn.pkl')\n",
        "files.download('modelo_knn.pkl')\n",
        "\n"
      ],
      "metadata": {
        "id": "lT9owjnve4gy"
      },
      "execution_count": null,
      "outputs": []
    }
  ]
}