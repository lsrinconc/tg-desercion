{
  "nbformat": 4,
  "nbformat_minor": 0,
  "metadata": {
    "colab": {
      "name": "Herramienta prediccion.ipynb",
      "provenance": [],
      "collapsed_sections": []
    },
    "kernelspec": {
      "name": "python3",
      "display_name": "Python 3"
    },
    "language_info": {
      "name": "python"
    }
  },
  "cells": [
    {
      "cell_type": "code",
      "source": [
        "import joblib\n",
        "from google.colab import files\n",
        "import io\n",
        "import pandas as pd\n",
        "from io import BytesIO\n",
        "import pickle\n",
        "import requests\n",
        "import matplotlib.pyplot as plt\n",
        "import numpy as np\n",
        "from tabulate import tabulate\n"
      ],
      "metadata": {
        "id": "giEwVrGY5OOt"
      },
      "execution_count": 1,
      "outputs": []
    },
    {
      "cell_type": "code",
      "source": [
        "# Importar el modelo generado\n",
        "url = 'https://github.com/lsrinconc/tg-desercion/blob/1a49ab50452168c37ab21c7077ac52440d3c4fc9/modelo_knn.pkl?raw=true'\n",
        "modelo_knn = joblib.load(BytesIO(requests.get(url).content))\n"
      ],
      "metadata": {
        "id": "15WV-CaNqV2K"
      },
      "execution_count": 30,
      "outputs": []
    },
    {
      "cell_type": "code",
      "source": [
        "#Subir el archivo csv con los estudiantes a predecir\n",
        "uploaded = files.upload()\n",
        "t=0\n",
        "for fn in uploaded.keys():\n",
        "  nombreArchivo=fn\n",
        "  t=t+1"
      ],
      "metadata": {
        "colab": {
          "resources": {
            "http://localhost:8080/nbextensions/google.colab/files.js": {
              "data": "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",
              "ok": true,
              "headers": [
                [
                  "content-type",
                  "application/javascript"
                ]
              ],
              "status": 200,
              "status_text": "OK"
            }
          },
          "base_uri": "https://localhost:8080/",
          "height": 81
        },
        "id": "ky4wZxZtufJD",
        "outputId": "12e80b8a-dfb3-4f9f-d5a9-9ee31576add4"
      },
      "execution_count": 34,
      "outputs": [
        {
          "output_type": "display_data",
          "data": {
            "text/plain": [
              "<IPython.core.display.HTML object>"
            ],
            "text/html": [
              "\n",
              "     <input type=\"file\" id=\"files-717bc92b-7198-4c1d-8f42-f38fafa2c4bc\" name=\"files[]\" multiple disabled\n",
              "        style=\"border:none\" />\n",
              "     <output id=\"result-717bc92b-7198-4c1d-8f42-f38fafa2c4bc\">\n",
              "      Upload widget is only available when the cell has been executed in the\n",
              "      current browser session. Please rerun this cell to enable.\n",
              "      </output>\n",
              "      <script src=\"/nbextensions/google.colab/files.js\"></script> "
            ]
          },
          "metadata": {}
        },
        {
          "output_type": "stream",
          "name": "stdout",
          "text": [
            "Saving predicciones.csv to predicciones (13).csv\n"
          ]
        }
      ]
    },
    {
      "cell_type": "code",
      "source": [
        "if t != 1:\n",
        "  print(\"ERROR: Se debe subir unicamente un archivo \")\n",
        "elif not nombreArchivo.endswith('.csv'):\n",
        "  print(\"ERROR: El archivo de estar en formato csv\")\n",
        "else:\n",
        "  print('*** Inicio predicción ***')\n",
        "  print('--- Formateando atributos')\n",
        "  ds = pd.read_csv(io.BytesIO(uploaded[nombreArchivo]), sep=';')\n",
        "\n",
        "  #Formateo de columnas\n",
        "  #Formateo Edad_rango\n",
        "  ds['Edad_rango'] = ds['edad_rango'].map( {'0 a 20': 16, \n",
        "                                          '21 a 25': 21,\n",
        "                                          '26 a 30': 26, \n",
        "                                          '31 a 40': 31,\n",
        "                                          'Mayor a 40': 40}).astype(int)\n",
        "  # Formateo Genero \n",
        "  ds['Genero'] = ds['genero'].map( {'F': 0, 'M': 1}).astype(int)\n",
        "\n",
        "  #Formateo Jornada\n",
        "  ds['Jornada'] = ds['jornada'].map( {'DIURNA': 0, 'NOCTURNA': 1}).astype(int)\n",
        "\n",
        "  #Formateo Estado civil\n",
        "  ds['Estado_civil'] = ds['estado_civil'].map( {'CASADO': 0, \n",
        "                                                'DIVORCIADO': 1, \n",
        "                                                'SEPARADO': 2, \n",
        "                                                'SOLTERO': 3, \n",
        "                                                'UNION LIBRE': 4, \n",
        "                                                'OTRO':5}).astype(int)\n",
        "\n",
        "  #Formateo ingresos familiares\n",
        "  ds['Ingresos_familiares'] = ds['ingresos_familiares'].map( {'ENTRE 0-1 SALARIOS MINIMOS': 0, \n",
        "                                                              'ENTRE 1-2 SALARIOS MINIMOS': 1, \n",
        "                                                              'ENTRE 2-5 SALARIOS MINIMOS': 2, \n",
        "                                                              'MAYOR 5 SALARIOS  MINIMOS': 3}).astype(int)\n",
        "\n",
        "  #Formateo calificaciones\n",
        "  ds['C1_rango'] = ds['c1_rango'].map( {'ENTRE 0 Y 2.9': 0, 'ENTRE 3 Y 3.9': 3, 'ENTRE 4 Y 5': 5}).astype(int)\n",
        "  ds['C2_rango'] = ds['c2_rango'].map( {'ENTRE 0 Y 2.9': 0, 'ENTRE 3 Y 3.9': 3, 'ENTRE 4 Y 5': 5}).astype(int)\n",
        "  ds['P1_rango'] = ds['p1_rango'].map( {'ENTRE 0 Y 2.9': 0, 'ENTRE 3 Y 3.9': 3, 'ENTRE 4 Y 5': 5}).astype(int)\n",
        "  ds['P2_rango'] = ds['p2_rango'].map( {'ENTRE 0 Y 2.9': 0, 'ENTRE 3 Y 3.9': 3, 'ENTRE 4 Y 5': 5}).astype(int)\n",
        "  ds['Promedio_acumulado_rango'] = ds['promedio_acumulado_rango'].map( {'ENTRE 0 Y 2.9': 0, 'ENTRE 3 Y 3.9': 3, 'ENTRE 4 Y 5': 5}).astype(int)\n",
        "\n",
        "  #Formateo promedio_asignaturas_sem_rango\n",
        "  ds['Cantidad_asignaturas_sem_rango'] = ds['cantidad_asignaturas_sem_rango'].map( {'ENTRE 1 Y 4': 0, 'ENTRE 5 Y 8': 1, 'MAS DE 8': 2}).astype(int)\n",
        "\n",
        "\n",
        "  # Array con los nombres de las columnas a eliminar\n",
        "  columnas_eliminar = ['edad_rango','genero','jornada',\n",
        "                  'estado_civil','ingresos_familiares',\n",
        "                  'c1_rango','c2_rango','p1_rango','p2_rango',\n",
        "                  'cantidad_asignaturas_sem_rango','promedio_acumulado_rango']\n",
        "  # Se eliminan las columnas que sin formatear y las columnas que no son necesarias para el analisis y se guardan en una nueva variable\n",
        "  ds_formateado = ds.drop(columnas_eliminar, axis = 1)\n",
        "  print('--- Datos formateados correctamente')\n",
        "  print('--- Realizando predicción\\n')\n",
        "  #Predicción utilizando el modelo con el algoritmo k vecinos más cercanos\n",
        "  # Se obtiene la predicción de probabilidad\n",
        "\n",
        "  prediccion_proba=modelo_knn.predict_proba(ds_formateado.values)\n",
        "  print('Resuldatos de la predicción \\n')\n",
        "  print('Predicción de probabilidad - Matriz de probabilidad\\n')\n",
        "  print(prediccion_proba)\n",
        "  # Se obtiene la predicción \n",
        "  prediccion=modelo_knn.predict(ds_formateado.values)\n",
        "  print('Predicción\\n')\n",
        "  print(prediccion)\n",
        "  print('\\n')\n",
        "  # Se reemplazan los valores de la predicción de numeros a cadena de texto\n",
        "  prediccion= np.where(prediccion == 1, 'Desertor', 'No Desertor')\n",
        "  # Se eliminan las probabilidades de la clase 0 \n",
        "  prediccion_proba= np.delete(prediccion_proba,0, 1)\n",
        "  # Se crea un rango de 1 a n para los estudiantes \n",
        "  rango = range(1,prediccion.size+1)\n",
        "  #con base a la probabilidad de la clase 1 ( desertor ), se setea el nivel de riesgo\n",
        "  conditions  = [ prediccion_proba[:,0] <.5, (prediccion_proba[:,0] >=.5) & (prediccion_proba[:,0] <.75), prediccion_proba[:,0] >=.75 ]\n",
        "  choices     = [ \"Bajo\", 'Medio', 'Alto' ]\n",
        "  nivel_riesgo= np.select(conditions, choices, default=np.nan)\n",
        "\n",
        "  #Se crea la matriz con los datos de la predicción y nivel de riesgo\n",
        "  tabla= np.array([rango,prediccion,nivel_riesgo],dtype=object)\n",
        "  tabla = tabla.transpose()\n",
        "  col_names = [\"Estudiante\",\"Clasificación\", \"Nivel riesgo deserción\"]\n",
        "\n",
        "  # Se dibuja la tabla con los resultado\n",
        "  print('Tabulación resultados')\n",
        "  print(tabulate(tabla, headers=col_names, tablefmt=\"fancy_grid\"))\n",
        "  print('\\n*** Fin predicción ***')\n",
        "\n",
        "\n"
      ],
      "metadata": {
        "id": "21_qcNPy8vm3",
        "colab": {
          "base_uri": "https://localhost:8080/"
        },
        "outputId": "40576a5c-2a2f-427d-fd25-cd8359f39298"
      },
      "execution_count": 35,
      "outputs": [
        {
          "output_type": "stream",
          "name": "stdout",
          "text": [
            "*** Inicio predicción ***\n",
            "--- Formateando atributos\n",
            "--- Datos formateados correctamente\n",
            "--- Realizando predicción\n",
            "\n",
            "Resuldatos de la predicción \n",
            "\n",
            "Predicción de probabilidad - Matriz de probabilidad\n",
            "\n",
            "[[0.8 0.2]\n",
            " [0.2 0.8]\n",
            " [0.3 0.7]]\n",
            "Predicción\n",
            "\n",
            "[0 1 1]\n",
            "\n",
            "\n",
            "Tabulación resultados\n",
            "╒══════════════╤═════════════════╤══════════════════════════╕\n",
            "│   Estudiante │ Clasificación   │ Nivel riesgo deserción   │\n",
            "╞══════════════╪═════════════════╪══════════════════════════╡\n",
            "│            1 │ No Desertor     │ Bajo                     │\n",
            "├──────────────┼─────────────────┼──────────────────────────┤\n",
            "│            2 │ Desertor        │ Alto                     │\n",
            "├──────────────┼─────────────────┼──────────────────────────┤\n",
            "│            3 │ Desertor        │ Medio                    │\n",
            "╘══════════════╧═════════════════╧══════════════════════════╛\n",
            "\n",
            "*** Fin predicción ***\n"
          ]
        }
      ]
    }
  ]
}